{
  "nbformat": 4,
  "nbformat_minor": 0,
  "metadata": {
    "colab": {
      "provenance": []
    },
    "kernelspec": {
      "name": "python3",
      "display_name": "Python 3"
    },
    "language_info": {
      "name": "python"
    }
  },
  "cells": [
    {
      "cell_type": "code",
      "execution_count": 1,
      "metadata": {
        "colab": {
          "base_uri": "https://localhost:8080/"
        },
        "id": "II8zdugkmeUq",
        "outputId": "12e06e2e-0378-49fa-eb65-2c93d99f15c6"
      },
      "outputs": [
        {
          "output_type": "stream",
          "name": "stdout",
          "text": [
            "Connecting to Google Drive...\n",
            "Mounted at /content/drive\n",
            "✅ Google Drive connected.\n"
          ]
        }
      ],
      "source": [
        "# --- 1. SETUP AND DATA LOADING ---\n",
        "\n",
        "# Import necessary libraries\n",
        "import pandas as pd\n",
        "import sqlite3\n",
        "import matplotlib.pyplot as plt\n",
        "import seaborn as sns\n",
        "from google.colab import drive\n",
        "\n",
        "# Mount Google Drive to access files\n",
        "print(\"Connecting to Google Drive...\")\n",
        "drive.mount('/content/drive')\n",
        "print(\"✅ Google Drive connected.\")\n",
        "\n",
        "# Define the file path to your data folder in Google Drive\n",
        "# This path is now updated to your 'meesho' folder.\n",
        "data_path = \"/content/drive/MyDrive/meesho/\"\n",
        "\n",
        "# Create in-memory SQL databases\n",
        "db1 = sqlite3.connect(':memory:') # For Sales Analysis\n",
        "db2 = sqlite3.connect(':memory:') # For Retention Analysis\n",
        "db3 = sqlite3.connect(':memory:') # For OTIF Analysis\n"
      ]
    },
    {
      "cell_type": "code",
      "source": [
        "# --- 2. DATA PIPELINE: Load CSVs into SQL Tables ---\n",
        "\n",
        "print(\"\\nLoading data into databases...\")\n",
        "try:\n",
        "    # Load Sales data\n",
        "    pd.read_csv(data_path + 'orders.csv').to_sql('orders', db1, index=False)\n",
        "    pd.read_csv(data_path + 'order_details.csv').to_sql('order_details', db1, index=False)\n",
        "    pd.read_csv(data_path + 'products.csv').to_sql('products', db1, index=False)\n",
        "    print(\"✅ Sales data loaded.\")\n",
        "\n",
        "    # Load Retention data\n",
        "    pd.read_csv(data_path + 'q2_orders.csv').to_sql('orders', db2, index=False)\n",
        "    print(\"✅ Retention data loaded.\")\n",
        "\n",
        "    # Load Operations data\n",
        "    pd.read_csv(data_path + 'order_timeline.csv').to_sql('order_timeline', db3, index=False)\n",
        "    pd.read_csv(data_path + 'order_shipment.csv').to_sql('order_shipment', db3, index=False)\n",
        "    print(\"✅ Operations data loaded.\")\n",
        "except FileNotFoundError as e:\n",
        "    print(f\"\\n❌ ERROR: Could not find a file. Please check that your folder is named 'meesho' and contains all 6 CSV files.\")\n",
        "    print(f\"Details: {e}\")\n",
        "\n",
        "# Helper functions to run SQL queries\n",
        "def run_query1(query): return pd.read_sql_query(query, db1)\n",
        "def run_query2(query): return pd.read_sql_query(query, db2)\n",
        "def run_query3(query): return pd.read_sql_query(query, db3)\n"
      ],
      "metadata": {
        "colab": {
          "base_uri": "https://localhost:8080/"
        },
        "id": "cJFJnmg4oqTa",
        "outputId": "bd40b9e8-01e5-47e7-9f16-ec11e7aac843"
      },
      "execution_count": 2,
      "outputs": [
        {
          "output_type": "stream",
          "name": "stdout",
          "text": [
            "\n",
            "Loading data into databases...\n",
            "✅ Sales data loaded.\n",
            "✅ Retention data loaded.\n",
            "✅ Operations data loaded.\n"
          ]
        }
      ]
    },
    {
      "cell_type": "code",
      "source": [
        "# --- 3. SALES ANALYSIS ---\n",
        "# =======================================================================\n",
        "\n",
        "print(\"\\n\\n--- Part 1: Sales Analysis ---\")\n",
        "\n",
        "# --- GMV (Gross Merchandise Value) per Product ---\n",
        "print(\"\\n[Analysis] Calculating GMV per Product...\")\n",
        "gmv_query = '''\n",
        "    SELECT\n",
        "        p.name AS product_name,\n",
        "        SUM(od.price * od.quantity) as GMV\n",
        "    FROM order_details od\n",
        "    JOIN products p ON od.product_id = p.id\n",
        "    GROUP BY product_name\n",
        "    ORDER BY GMV DESC;\n",
        "'''\n",
        "gmv_per_product = run_query1(gmv_query)\n",
        "print(gmv_per_product)\n",
        "\n",
        "# --- Number of Orders vs. Product Price ---\n",
        "print(\"\\n[Analysis] Plotting Number of Orders vs. Product Price...\")\n",
        "orders_v_price_query = '''\n",
        "    SELECT\n",
        "        p.name,\n",
        "        COUNT(od.order_id) as number_of_orders,\n",
        "        AVG(od.price) as average_price\n",
        "    FROM products p\n",
        "    JOIN order_details od ON p.id = od.product_id\n",
        "    GROUP BY p.name;\n",
        "'''\n",
        "orders_v_price_df = run_query1(orders_v_price_query)\n",
        "\n",
        "# Plotting the graph\n",
        "plt.style.use('seaborn-v0_8-whitegrid')\n",
        "plt.figure(figsize=(10, 6))\n",
        "sns.scatterplot(x=\"average_price\", y=\"number_of_orders\", data=orders_v_price_df, s=150, color='#f43397')\n",
        "plt.title('Number of Orders vs. Product Price', fontsize=16)\n",
        "plt.xlabel('Average Product Price ($)', fontsize=12)\n",
        "plt.ylabel('Total Number of Orders', fontsize=12)\n",
        "plt.show()\n"
      ],
      "metadata": {
        "colab": {
          "base_uri": "https://localhost:8080/",
          "height": 805
        },
        "id": "ooZg_x0npO4u",
        "outputId": "61dbe39d-d25d-432b-bca9-2b0d909ac798"
      },
      "execution_count": 3,
      "outputs": [
        {
          "output_type": "stream",
          "name": "stdout",
          "text": [
            "\n",
            "\n",
            "--- Part 1: Sales Analysis ---\n",
            "\n",
            "[Analysis] Calculating GMV per Product...\n",
            "                     product_name   GMV\n",
            "0         Ethnic Oxidised Jhumkas  3998\n",
            "1  Women's Floral Print Kurta Set  2998\n",
            "2        Men's Casual Check Shirt  2499\n",
            "3       Sassy Printed Phone Cover  2097\n",
            "4     Kids' Graphic Print T-shirt  1798\n",
            "5          Handwoven Cotton Saree  1299\n",
            "\n",
            "[Analysis] Plotting Number of Orders vs. Product Price...\n"
          ]
        },
        {
          "output_type": "display_data",
          "data": {
            "text/plain": [
              "<Figure size 1000x600 with 1 Axes>"
            ],
            "image/png": "[encoded data removed]"
          },
          "metadata": {}
        }
      ]
    },
    {
      "cell_type": "code",
      "source": [
        "# =======================================================================\n",
        "# --- 4. CUSTOMER RETENTION ANALYSIS ---\n",
        "# =======================================================================\n",
        "\n",
        "print(\"\\n\\n--- Part 2: Customer Retention Analysis ---\")\n",
        "print(\"\\n[Analysis] Generating weekly user retention cohorts...\")\n",
        "retention_query = \"\"\"\n",
        "WITH user_first_order AS (\n",
        "    -- Find the first order week for each user to define their cohort\n",
        "    SELECT\n",
        "        userId,\n",
        "        MIN(STRFTIME('%Y-%W', created)) as cohort_week\n",
        "    FROM orders\n",
        "    GROUP BY userId\n",
        "),\n",
        "order_weeks AS (\n",
        "    -- Get the activity week for every order\n",
        "    SELECT\n",
        "        userId,\n",
        "        STRFTIME('%Y-%W', created) as order_week\n",
        "    FROM orders\n",
        "    GROUP BY 1, 2\n",
        ")\n",
        "-- Calculate how many users from each cohort were active in subsequent weeks\n",
        "SELECT\n",
        "    ufo.cohort_week,\n",
        "    ow.order_week,\n",
        "    COUNT(DISTINCT ufo.userId) as retained_users\n",
        "FROM user_first_order ufo\n",
        "JOIN order_weeks ow ON ufo.userId = ow.userId\n",
        "GROUP BY 1, 2\n",
        "ORDER BY 1, 2;\n",
        "\"\"\"\n",
        "retention_data = run_query2(retention_query)\n",
        "print(\"Note: Raw retention data below. This can be pivoted to create a retention heatmap.\")\n",
        "print(retention_data)\n"
      ],
      "metadata": {
        "colab": {
          "base_uri": "https://localhost:8080/"
        },
        "id": "_eYAHQ-npYLX",
        "outputId": "7625d621-c254-4ff0-ab7c-00cd8135213d"
      },
      "execution_count": 4,
      "outputs": [
        {
          "output_type": "stream",
          "name": "stdout",
          "text": [
            "\n",
            "\n",
            "--- Part 2: Customer Retention Analysis ---\n",
            "\n",
            "[Analysis] Generating weekly user retention cohorts...\n",
            "Note: Raw retention data below. This can be pivoted to create a retention heatmap.\n",
            "   cohort_week order_week  retained_users\n",
            "0      2025-00    2025-00               2\n",
            "1      2025-00    2025-01               1\n",
            "2      2025-00    2025-02               1\n",
            "3      2025-00    2025-03               1\n",
            "4      2025-00    2025-05               1\n",
            "5      2025-00    2025-06               1\n",
            "6      2025-02    2025-02               1\n",
            "7      2025-02    2025-04               1\n",
            "8      2025-03    2025-03               1\n",
            "9      2025-04    2025-04               1\n",
            "10     2025-06    2025-06               1\n"
          ]
        }
      ]
    },
    {
      "cell_type": "code",
      "source": [
        "# --- 5. OPERATIONAL ANALYSIS (OTIF) ---\n",
        "# =======================================================================\n",
        "print(\"\\n\\n--- Part 3: Operational (Shipping) Analysis ---\")\n",
        "print(\"\\n[Analysis] Calculating On-Time In-Full (OTIF) shipping performance...\")\n",
        "otif_query = \"\"\"\n",
        "WITH combined_data AS (\n",
        "    -- Join timeline and shipment tables and extract the relevant dates\n",
        "    SELECT\n",
        "        ot.order_id,\n",
        "        DATE(os.actual_dispatch_date) as dispatch_date,\n",
        "        DATE(JSON_EXTRACT(ot.message, '$.dispatch_date')) as message_date\n",
        "    FROM order_timeline ot\n",
        "    JOIN order_shipment os ON ot.order_id = os.order_id\n",
        "),\n",
        "day_diff AS (\n",
        "    -- Calculate the difference in days between actual and promised dispatch\n",
        "    SELECT\n",
        "        order_id,\n",
        "        JULIANDAY(dispatch_date) - JULIANDAY(message_date) as diff\n",
        "    FROM combined_data\n",
        "),\n",
        "categories AS (\n",
        "    -- Categorize each order based on the day difference\n",
        "    SELECT\n",
        "        CASE\n",
        "            WHEN diff <= 0      THEN 'Shipped On or Before Promised Date'\n",
        "            WHEN diff = 1       THEN 'Shipped 1 Day Late'\n",
        "            WHEN diff = 2       THEN 'Shipped 2 Days Late'\n",
        "            ELSE 'Shipped >2 Days Late'\n",
        "        END as shipping_category\n",
        "    FROM day_diff\n",
        ")\n",
        "-- Aggregate the results to get counts and percentages\n",
        "SELECT\n",
        "    shipping_category,\n",
        "    COUNT(*) as order_count,\n",
        "    ROUND(COUNT(*) * 100.0 / (SELECT COUNT(*) FROM categories), 2) as percentage\n",
        "FROM categories\n",
        "GROUP BY shipping_category;\n",
        "\"\"\"\n",
        "otif_results = run_query3(otif_query)\n",
        "print(otif_results)\n"
      ],
      "metadata": {
        "colab": {
          "base_uri": "https://localhost:8080/"
        },
        "id": "bihcd-pTpkzC",
        "outputId": "76066744-b3d2-408b-9464-fa446b7549d7"
      },
      "execution_count": 5,
      "outputs": [
        {
          "output_type": "stream",
          "name": "stdout",
          "text": [
            "\n",
            "\n",
            "--- Part 3: Operational (Shipping) Analysis ---\n",
            "\n",
            "[Analysis] Calculating On-Time In-Full (OTIF) shipping performance...\n",
            "                    shipping_category  order_count  percentage\n",
            "0                  Shipped 1 Day Late            1       16.67\n",
            "1                 Shipped 2 Days Late            1       16.67\n",
            "2                Shipped >2 Days Late            1       16.67\n",
            "3  Shipped On or Before Promised Date            3       50.00\n"
          ]
        }
      ]
    }
  ]
}